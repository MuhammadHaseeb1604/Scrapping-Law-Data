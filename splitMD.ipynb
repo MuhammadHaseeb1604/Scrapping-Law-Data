{
 "cells": [
  {
   "cell_type": "code",
   "execution_count": 1,
   "metadata": {},
   "outputs": [],
   "source": [
    "import os\n",
    "import re\n",
    "from pathlib import Path\n",
    "from langchain_text_splitters import MarkdownHeaderTextSplitter"
   ]
  },
  {
   "cell_type": "code",
   "execution_count": 16,
   "metadata": {},
   "outputs": [],
   "source": [
    "DATA_PATH = Path('Labor English')\n",
    "TARGET_PATH = Path('Labor Law Processed\\English')\n",
    "TITLE_REGEX = r\"[^\\w\\s\\-_]\""
   ]
  },
  {
   "cell_type": "code",
   "execution_count": 17,
   "metadata": {},
   "outputs": [],
   "source": [
    "def sanitize_title(title):\n",
    "    return re.sub(TITLE_REGEX, '', title).strip()\n",
    "\n",
    "def truncate_path(path, max_length=250):\n",
    "    \"\"\"Truncate the path to fit within the maximum allowed length.\"\"\"\n",
    "    if len(path) > max_length:\n",
    "        base, ext = os.path.splitext(path)\n",
    "        suffix = '...'\n",
    "        allowed_length = max_length - len(suffix) - len(ext)\n",
    "        return base[:allowed_length] + suffix + ext\n",
    "    return path"
   ]
  },
  {
   "cell_type": "code",
   "execution_count": 18,
   "metadata": {},
   "outputs": [],
   "source": [
    "def splitParts(path, markdown):\n",
    "    headers_to_split = [('####', 'Chapter')]\n",
    "    markdown_splitter = MarkdownHeaderTextSplitter(headers_to_split_on=headers_to_split, strip_headers=False)\n",
    "    chapters = markdown_splitter.split_text(markdown)\n",
    "    for chapter in chapters:\n",
    "        chapter_title = chapter.page_content.split('\\n')[0].replace('#', '')\n",
    "        chapter_title = sanitize_title(chapter_title)\n",
    "        try:\n",
    "            file_path = os.path.join(path, f'{chapter_title}.md')\n",
    "            file_path = truncate_path(file_path)\n",
    "            os.makedirs(os.path.dirname(file_path), exist_ok=True)\n",
    "            with open(file_path, 'w') as file:\n",
    "                file.write(chapter.page_content.replace('#### Chapter', '## Chapter'))\n",
    "        except Exception as e:\n",
    "            print(f'File issue: {file_path} - {e}')"
   ]
  },
  {
   "cell_type": "code",
   "execution_count": 33,
   "metadata": {},
   "outputs": [],
   "source": [
    "def splitMarkdown(file_name, markdown):\n",
    "    headers_to_split = [\n",
    "        (\"#\", \"Title\"),\n",
    "        (\"##\", \"Part\"),\n",
    "    ]\n",
    "    print(file_name)\n",
    "    markdown_splitter = MarkdownHeaderTextSplitter(headers_to_split_on=headers_to_split, strip_headers=False)\n",
    "    parts = markdown_splitter.split_text(markdown)\n",
    "    for part in parts[1:]:\n",
    "        if part.metadata:\n",
    "            if 'Part' in part.metadata.keys():\n",
    "                title = part.metadata['Part']\n",
    "            else:\n",
    "                title = part.metadata['Title']\n",
    "\n",
    "            title = sanitize_title(title)\n",
    "            print(f\"sanitize_title : {title}\")\n",
    "            dst_path = os.path.join(TARGET_PATH, file_name, title)\n",
    "            print(dst_path)\n",
    "            dst_path = truncate_path(dst_path)\n",
    "            if not os.path.exists(dst_path):\n",
    "                try:\n",
    "                    os.makedirs(dst_path, exist_ok=True)\n",
    "                except Exception as e:\n",
    "                    print(f'Error creating directory {dst_path} - {e}')\n",
    "                    continue\n",
    "        part_text = part.page_content.replace('### Chapter', '#### Chapter')\n",
    "        splitParts(dst_path, part_text)"
   ]
  },
  {
   "cell_type": "code",
   "execution_count": 34,
   "metadata": {},
   "outputs": [],
   "source": [
    "def processMDFiles(directory: Path):\n",
    "    md_files = directory.glob(\"**/*.md\")\n",
    "    for idx, file in enumerate(md_files):\n",
    "        print(file)\n",
    "        break\n",
    "        with open(file, \"r\", encoding=\"utf-8\") as f:\n",
    "            print(f'{idx + 1} -> Processing file: {file.name}')\n",
    "            content = f.read()\n",
    "            splitMarkdown(str(file.name).replace('.md', ''), content)"
   ]
  },
  {
   "cell_type": "code",
   "execution_count": 35,
   "metadata": {},
   "outputs": [
    {
     "name": "stdout",
     "output_type": "stream",
     "text": [
      "Labor English\\Executive Regulations for Regulating and Organizing Labor Inspection Work.md\n"
     ]
    }
   ],
   "source": [
    "processMDFiles(DATA_PATH)"
   ]
  },
  {
   "cell_type": "code",
   "execution_count": 32,
   "metadata": {},
   "outputs": [
    {
     "name": "stdout",
     "output_type": "stream",
     "text": [
      "Labor English\\Executive Regulations for Regulating and Organizing Labor Inspection Work\n"
     ]
    }
   ],
   "source": [
    "path = \"Labor English\\Executive Regulations for Regulating and Organizing Labor Inspection Work.md\"\n",
    "with open(path, \"r\", encoding=\"utf-8\") as f:\n",
    "  content = f.read()\n",
    "  # print(content)\n",
    "  splitMarkdown(\"Labor English\\Executive Regulations for Regulating and Organizing Labor Inspection Work\", content)"
   ]
  },
  {
   "cell_type": "code",
   "execution_count": 28,
   "metadata": {},
   "outputs": [],
   "source": [
    "# processMDFiles(\"Labor English\\Executive Regulations for Regulating and Organizing Labor Inspection Work.md\")"
   ]
  },
  {
   "cell_type": "code",
   "execution_count": null,
   "metadata": {},
   "outputs": [],
   "source": []
  }
 ],
 "metadata": {
  "kernelspec": {
   "display_name": "venv",
   "language": "python",
   "name": "python3"
  },
  "language_info": {
   "codemirror_mode": {
    "name": "ipython",
    "version": 3
   },
   "file_extension": ".py",
   "mimetype": "text/x-python",
   "name": "python",
   "nbconvert_exporter": "python",
   "pygments_lexer": "ipython3",
   "version": "3.11.5"
  }
 },
 "nbformat": 4,
 "nbformat_minor": 2
}
